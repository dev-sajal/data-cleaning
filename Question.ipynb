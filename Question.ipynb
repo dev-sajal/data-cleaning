{
 "cells": [
  {
   "cell_type": "markdown",
   "metadata": {},
   "source": [
    "## Instructions\n",
    "\n",
    "1. Follow the instructions in each of the cell\n",
    "\n",
    "2. Make sure to save your answers in designated variable as mentioned in instructions.\n",
    "\n",
    "3. Donot delete/modify the last cell. Execute the last cell to save your answers in pickle file\n",
    "\n",
    "4. **Important Note:** Please do an inplace replace/drop operation in the dataframe.(i.e) set the parameter inplace=True whenever you drop rows/columns or replace values in columns/rows. Doing this practice will avoid ambiguity when returning the final dataframe at last question."
   ]
  },
  {
   "cell_type": "code",
   "execution_count": null,
   "metadata": {},
   "outputs": [],
   "source": [
    "#import statements\n",
    "import pandas as pd\n",
    "import numpy as np\n",
    "\n"
   ]
  },
  {
   "cell_type": "markdown",
   "metadata": {},
   "source": [
    "### Input Data\n",
    "\n",
    "Read the Dataset **IPL_Unclean.csv** from the **input** directory into a dataframe object.\n",
    "\n"
   ]
  },
  {
   "cell_type": "code",
   "execution_count": null,
   "metadata": {},
   "outputs": [],
   "source": [
    "#Load the data\n",
    "\n"
   ]
  },
  {
   "cell_type": "markdown",
   "metadata": {
    "colab_type": "text",
    "id": "MLhjhxo55rkd"
   },
   "source": [
    "# Check whether any duplicate rows present and remove if found"
   ]
  },
  {
   "cell_type": "code",
   "execution_count": null,
   "metadata": {},
   "outputs": [],
   "source": [
    "\n",
    "\n",
    "\n",
    "\n",
    "\n"
   ]
  },
  {
   "cell_type": "markdown",
   "metadata": {
    "colab_type": "text",
    "id": "P2Up1E4f6J1N"
   },
   "source": [
    "# Drop the insignificant column \"umpire3\" from the dataframe."
   ]
  },
  {
   "cell_type": "code",
   "execution_count": null,
   "metadata": {},
   "outputs": [],
   "source": [
    "\n",
    "\n",
    "\n",
    "\n"
   ]
  },
  {
   "cell_type": "markdown",
   "metadata": {
    "colab_type": "text",
    "id": "s_MKCmfo-Gfc"
   },
   "source": [
    "# Q1. Replace the null values present in the column \"city\" based on the information from the column \"venue\"\n",
    "\n",
    "# Return the values of column `City` in the form of list to variable `q1`\n",
    "\n",
    "**NOTE:**\n",
    "1. `Example`:\n",
    "    - If the Venue is `Mysore Cricket Stadium`  then City must be filled with `Mysore`\n",
    "2. *Hint*: Find all rows with NAN values in city column to find the pattern."
   ]
  },
  {
   "cell_type": "code",
   "execution_count": null,
   "metadata": {},
   "outputs": [],
   "source": [
    "\n",
    "\n",
    "#Assign your answer to this variable\n",
    "q1=_\n"
   ]
  },
  {
   "cell_type": "markdown",
   "metadata": {
    "colab_type": "text",
    "id": "J9i0JaoSALv3"
   },
   "source": [
    "# Q2. Replace the null values present in the columns `player_of_match` & `winner` with `-`(Hyphen)\n",
    "\n",
    "# Return the values of columns \"winner\" & \"player_of_match\" as a LIST to the variables `q2` and `q3` respectively"
   ]
  },
  {
   "cell_type": "code",
   "execution_count": null,
   "metadata": {},
   "outputs": [],
   "source": [
    "\n",
    "\n",
    "#Assign your answer to the corresponding variables\n",
    "\n",
    "q2=_\n",
    "q3=_"
   ]
  },
  {
   "cell_type": "markdown",
   "metadata": {
    "colab_type": "text",
    "id": "7Cfc2W2VO87m"
   },
   "source": [
    "# Q3. Replace the null values present in the column \"season\".\n",
    "\n",
    "# Return the column \"season\"  as a LIST to the variable `q4`.\n",
    "\n",
    "**Note:**\n",
    "1. All values in `Season` column should be `Float`(datatype) after replacing. \n",
    "2. Hint: Make use of `date` column to extract the year with which the NA values has to be replaced.\n",
    "\n",
    "\n",
    "\n",
    "**Sample list**\n",
    "[2008.0,2006.0,2009.0]"
   ]
  },
  {
   "cell_type": "code",
   "execution_count": null,
   "metadata": {},
   "outputs": [],
   "source": [
    "\n",
    "#Assign your answer to this variable\n",
    "\n",
    "q4=_"
   ]
  },
  {
   "cell_type": "markdown",
   "metadata": {
    "colab_type": "text",
    "id": "LEDHfukdPOhH"
   },
   "source": [
    "# Q4. Replace the null values present in the columns `team1` & `team2`\n",
    "\n",
    "## Return the columns \"team1\" & \"team2\" as a LIST to `q5` and `q6`  respectively.\n",
    "\n",
    "**NOTE:**\n",
    "1. Hint: Checkout `toss_winner` column."
   ]
  },
  {
   "cell_type": "code",
   "execution_count": null,
   "metadata": {},
   "outputs": [],
   "source": [
    "\n",
    "\n",
    "\n",
    "#Assign your answer to this variable\n",
    "\n",
    "q5=_\n",
    "q6=_\n",
    "\n"
   ]
  },
  {
   "cell_type": "markdown",
   "metadata": {
    "colab_type": "text",
    "id": "dpUruV0uO3dm"
   },
   "source": [
    "# Q5. Return the Dataframe to the variable `dataf` in the same order of columns provided below.\n",
    "**Column order:**[id,season,city,date,team1,team2,toss_winner,toss_decision,result,dl_applied,winner,win_by_runs,win_by_wickets,player_of_match,venue,umpire1,umpire2] \n"
   ]
  },
  {
   "cell_type": "code",
   "execution_count": null,
   "metadata": {
    "colab": {},
    "colab_type": "code",
    "id": "Xc9hu1YuQuNU"
   },
   "outputs": [],
   "source": [
    "# Assign the DataFrame to this variable \n",
    "dataf=_\n"
   ]
  },
  {
   "cell_type": "markdown",
   "metadata": {},
   "source": [
    "## Make sure you run the below cell to save your answers for validation\n",
    "### Do not delete/modify the cell"
   ]
  },
  {
   "cell_type": "code",
   "execution_count": null,
   "metadata": {},
   "outputs": [],
   "source": [
    "import pickle\n",
    "import hashlib\n",
    "def make_pickle1(file_name, obj):\n",
    "    with open(file_name, 'wb') as f:\n",
    "        pickle.dump(obj, f, pickle.HIGHEST_PROTOCOL)\n",
    "def get_pickle(file_name):\n",
    "    with open(file_name, 'rb') as f:\n",
    "        return pickle.load(f)\n",
    "def make_pickle2(file_name, obj):\n",
    "    with open(file_name, 'wb') as f:\n",
    "        pickle.dump(geth(obj), f, pickle.HIGHEST_PROTOCOL)\n",
    "        \n",
    "def geth(obj):\n",
    "    obj = str(obj).encode()\n",
    "    m = hashlib.md5()\n",
    "    m.update( bytes(obj) )\n",
    "    return m.hexdigest()\n",
    "def pickling():\n",
    "    make_pickle2('q1.pickle', q1[402].lower())\n",
    "    make_pickle1('q1b.pickle', q1)\n",
    "    make_pickle2('q2.pickle', q2)\n",
    "    make_pickle1('q2b.pickle', q2)\n",
    "    make_pickle2('q3.pickle', q3)\n",
    "    make_pickle1('q3b.pickle', q3)\n",
    "    make_pickle2('q4.pickle', q4)\n",
    "    make_pickle1('q4b.pickle', q4)\n",
    "    make_pickle2('q6.pickle', q5)\n",
    "    make_pickle1('q6b.pickle', q5)\n",
    "    make_pickle2('q7.pickle', q6)\n",
    "    make_pickle1('q7b.pickle', q6)\n",
    "    make_pickle1('q8.pickle', dataf)\n",
    "\n",
    "    \n",
    "pickling()\n",
    "\n",
    "\n"
   ]
  }
 ],
 "metadata": {
  "colab": {
   "name": "IPL_Cleaning.ipynb",
   "provenance": []
  },
  "kernelspec": {
   "display_name": "Python 3",
   "language": "python",
   "name": "python3"
  },
  "language_info": {
   "codemirror_mode": {
    "name": "ipython",
    "version": 3
   },
   "file_extension": ".py",
   "mimetype": "text/x-python",
   "name": "python",
   "nbconvert_exporter": "python",
   "pygments_lexer": "ipython3",
   "version": "3.7.5"
  }
 },
 "nbformat": 4,
 "nbformat_minor": 4
}
